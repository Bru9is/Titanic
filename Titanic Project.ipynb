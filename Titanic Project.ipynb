{
 "cells": [
  {
   "cell_type": "markdown",
   "metadata": {},
   "source": [
    "# Dados Titanic\n",
    "\n",
    "O RMS Titanic foi um navio de passageiros britânico operado pela White Star Line e construído pelos estaleiros da Harland and Wolff em Belfast. Foi a segunda embarcação da Classe Olympic de transatlânticos depois do RMS Olympic e seguido pelo HMHS Britannic. Projetado pelos engenheiros navais Alexander Carlisle e Thomas Andrews, sua construção começou em março de 1909 e ele foi lançado ao mar em maio de 1911. O Titanic foi pensado para ser o navio mais luxuoso e mais seguro de sua época, gerando lendas que era supostamente \"inafundável\".\n",
    "\n",
    "A embarcação partiu em sua viagem inaugural de Southampton para Nova Iorque em 10 de abril de 1912, no caminho passando em Cherbourg-Octeville na França e por Queenstown na Irlanda. Ele colidiu com um iceberg às 23h40min do dia 14 de abril e afundou na madrugada do dia seguinte com mais de 1 500 pessoas a bordo, sendo um dos maiores desastres marítimos em tempos de paz de toda a história. Seu naufrágio destacou vários pontos fracos de seu projeto, deficiências nos procedimentos de evacuação de emergência e falhas nas regulamentações marítimas da época. Comissões de inquérito foram instauradas nos Estados Unidos e no Reino Unido, levando a mudanças nas leis internacionais de navegação que permanecem em vigor mais de um século depois.\n",
    "\n",
    "Os destroços do Titanic foram procurados por décadas até serem encontrados em 1985 por uma equipe liderada por Robert Ballard. Ele se encontra a 3843 m de profundidade e a 650 km ao sudeste de Terra Nova no Canadá. Sua história e naufrágio permaneceram no imaginário popular durante décadas, levando a produção de vários livros e filmes a seu respeito, mais notavelmente o filme Titanic de 1997. Até hoje o Titanic permanece como um dos navios mais famosos da história, com seus destroços atraindo várias expedições de exploração ao longo dos anos.\n",
    "\n",
    "## Origem da Base:\n",
    "Esta base faz parte do projeto de conclusão do curso de Fundamentos de Data Science I da Udacity, o conjunto de dados tem sua origem no site do Keggle. Temos aqui dado con informações dos passageiros do Titanic. Com base nessas informações, levantaremos questionamentos e respostas quanto as questões ligadas diretamente aos passageiros da embarcação.\n",
    "\n",
    "Links:\n",
    "https://www.kaggle.com/c/titanic/data\n",
    "\n",
    "## DICIONÁRIO DE DADOS:\n",
    "* Survived (Sobreviveu): 0 = Não 1 = Sim\n",
    "* Pclass (Classe): Tipo da passagem 1 = 1º Classe, 2 = 2º Classe 3 = 3º Classe\n",
    "* Sex (Sexo): Sexo do passageiro\n",
    "* Age (Idade): Idade \n",
    "* Sibsp: Quantidade de irmãos / cônjuges a bordo do Titanic\n",
    "* Parch: Quantidade de pais / crianças a bordo do Titanic\n",
    "* Ticket (Bilhete): Número do bilhete de embarque\n",
    "* Fare (Tarifa): Valor da passagem\n",
    "* Cabin (Cabine): Número da cabine\n",
    "* Embarked (Embarque): Porto de Embarque (C = Cherbourg Q = Queenstown S = Southampton)\n",
    "\n",
    "##Perguntas que serão respondidas:\n",
    "1. Quantas pessoas sobreviveram e quantas não sobreviveram ?\n",
    "2. Qual a idade do passageiro mais velho ?\n",
    "3. Qual a idade do passageiro mais novo ?\n",
    "4. Qual a média da idade dos passageiros ?\n",
    "5. Qual a idade do sobrevivente mais velho do sexo feminino e masculino ?\n",
    "6. Qual a diferença dos sobreviventes por idade e sexo ?\n",
    "7. Qual a diferença dos sobreviventes por sexo e classe ?\n",
    "8. Qual foi a maior taxa de sobrevivência dos passageiros em relação ao sexo ?\n"
   ]
  },
  {
   "cell_type": "code",
   "execution_count": 1,
   "metadata": {},
   "outputs": [],
   "source": [
    "#importando dados\n",
    "import pandas as pd\n",
    "import numpy as np\n",
    "from matplotlib import pyplot as plt\n",
    "%matplotlib inline"
   ]
  },
  {
   "cell_type": "code",
   "execution_count": 4,
   "metadata": {},
   "outputs": [],
   "source": [
    "# Carregando arquivo de dados\n",
    "titanic_df = pd.read_csv (\"titanic-data-6.csv\")"
   ]
  },
  {
   "cell_type": "code",
   "execution_count": 5,
   "metadata": {},
   "outputs": [
    {
     "data": {
      "text/html": [
       "<div>\n",
       "<style scoped>\n",
       "    .dataframe tbody tr th:only-of-type {\n",
       "        vertical-align: middle;\n",
       "    }\n",
       "\n",
       "    .dataframe tbody tr th {\n",
       "        vertical-align: top;\n",
       "    }\n",
       "\n",
       "    .dataframe thead th {\n",
       "        text-align: right;\n",
       "    }\n",
       "</style>\n",
       "<table border=\"1\" class=\"dataframe\">\n",
       "  <thead>\n",
       "    <tr style=\"text-align: right;\">\n",
       "      <th></th>\n",
       "      <th>PassengerId</th>\n",
       "      <th>Survived</th>\n",
       "      <th>Pclass</th>\n",
       "      <th>Name</th>\n",
       "      <th>Sex</th>\n",
       "      <th>Age</th>\n",
       "      <th>SibSp</th>\n",
       "      <th>Parch</th>\n",
       "      <th>Ticket</th>\n",
       "      <th>Fare</th>\n",
       "      <th>Cabin</th>\n",
       "      <th>Embarked</th>\n",
       "    </tr>\n",
       "  </thead>\n",
       "  <tbody>\n",
       "    <tr>\n",
       "      <th>0</th>\n",
       "      <td>1</td>\n",
       "      <td>0</td>\n",
       "      <td>3</td>\n",
       "      <td>Braund, Mr. Owen Harris</td>\n",
       "      <td>male</td>\n",
       "      <td>22.0</td>\n",
       "      <td>1</td>\n",
       "      <td>0</td>\n",
       "      <td>A/5 21171</td>\n",
       "      <td>7.2500</td>\n",
       "      <td>NaN</td>\n",
       "      <td>S</td>\n",
       "    </tr>\n",
       "    <tr>\n",
       "      <th>1</th>\n",
       "      <td>2</td>\n",
       "      <td>1</td>\n",
       "      <td>1</td>\n",
       "      <td>Cumings, Mrs. John Bradley (Florence Briggs Th...</td>\n",
       "      <td>female</td>\n",
       "      <td>38.0</td>\n",
       "      <td>1</td>\n",
       "      <td>0</td>\n",
       "      <td>PC 17599</td>\n",
       "      <td>71.2833</td>\n",
       "      <td>C85</td>\n",
       "      <td>C</td>\n",
       "    </tr>\n",
       "    <tr>\n",
       "      <th>2</th>\n",
       "      <td>3</td>\n",
       "      <td>1</td>\n",
       "      <td>3</td>\n",
       "      <td>Heikkinen, Miss. Laina</td>\n",
       "      <td>female</td>\n",
       "      <td>26.0</td>\n",
       "      <td>0</td>\n",
       "      <td>0</td>\n",
       "      <td>STON/O2. 3101282</td>\n",
       "      <td>7.9250</td>\n",
       "      <td>NaN</td>\n",
       "      <td>S</td>\n",
       "    </tr>\n",
       "    <tr>\n",
       "      <th>3</th>\n",
       "      <td>4</td>\n",
       "      <td>1</td>\n",
       "      <td>1</td>\n",
       "      <td>Futrelle, Mrs. Jacques Heath (Lily May Peel)</td>\n",
       "      <td>female</td>\n",
       "      <td>35.0</td>\n",
       "      <td>1</td>\n",
       "      <td>0</td>\n",
       "      <td>113803</td>\n",
       "      <td>53.1000</td>\n",
       "      <td>C123</td>\n",
       "      <td>S</td>\n",
       "    </tr>\n",
       "    <tr>\n",
       "      <th>4</th>\n",
       "      <td>5</td>\n",
       "      <td>0</td>\n",
       "      <td>3</td>\n",
       "      <td>Allen, Mr. William Henry</td>\n",
       "      <td>male</td>\n",
       "      <td>35.0</td>\n",
       "      <td>0</td>\n",
       "      <td>0</td>\n",
       "      <td>373450</td>\n",
       "      <td>8.0500</td>\n",
       "      <td>NaN</td>\n",
       "      <td>S</td>\n",
       "    </tr>\n",
       "  </tbody>\n",
       "</table>\n",
       "</div>"
      ],
      "text/plain": [
       "   PassengerId  Survived  Pclass  \\\n",
       "0            1         0       3   \n",
       "1            2         1       1   \n",
       "2            3         1       3   \n",
       "3            4         1       1   \n",
       "4            5         0       3   \n",
       "\n",
       "                                                Name     Sex   Age  SibSp  \\\n",
       "0                            Braund, Mr. Owen Harris    male  22.0      1   \n",
       "1  Cumings, Mrs. John Bradley (Florence Briggs Th...  female  38.0      1   \n",
       "2                             Heikkinen, Miss. Laina  female  26.0      0   \n",
       "3       Futrelle, Mrs. Jacques Heath (Lily May Peel)  female  35.0      1   \n",
       "4                           Allen, Mr. William Henry    male  35.0      0   \n",
       "\n",
       "   Parch            Ticket     Fare Cabin Embarked  \n",
       "0      0         A/5 21171   7.2500   NaN        S  \n",
       "1      0          PC 17599  71.2833   C85        C  \n",
       "2      0  STON/O2. 3101282   7.9250   NaN        S  \n",
       "3      0            113803  53.1000  C123        S  \n",
       "4      0            373450   8.0500   NaN        S  "
      ]
     },
     "execution_count": 5,
     "metadata": {},
     "output_type": "execute_result"
    }
   ],
   "source": [
    "# Primeiros elementos do arquivo de dados\n",
    "titanic_df.head ()"
   ]
  },
  {
   "cell_type": "code",
   "execution_count": 6,
   "metadata": {},
   "outputs": [
    {
     "data": {
      "text/plain": [
       "PassengerId      int64\n",
       "Survived         int64\n",
       "Pclass           int64\n",
       "Name            object\n",
       "Sex             object\n",
       "Age            float64\n",
       "SibSp            int64\n",
       "Parch            int64\n",
       "Ticket          object\n",
       "Fare           float64\n",
       "Cabin           object\n",
       "Embarked        object\n",
       "dtype: object"
      ]
     },
     "execution_count": 6,
     "metadata": {},
     "output_type": "execute_result"
    }
   ],
   "source": [
    "# Analisar os tipos de dados encontrados no arquivo de dados\n",
    "titanic_df.dtypes"
   ]
  },
  {
   "cell_type": "markdown",
   "metadata": {},
   "source": [
    "Após analisar os dados e descobrir quais os tipos que lhe são atribúidos, partimos para as análises."
   ]
  },
  {
   "cell_type": "code",
   "execution_count": 7,
   "metadata": {},
   "outputs": [
    {
     "data": {
      "text/plain": [
       "(891, 12)"
      ]
     },
     "execution_count": 7,
     "metadata": {},
     "output_type": "execute_result"
    }
   ],
   "source": [
    "# Verifica o tamanho dos dados\n",
    "titanic_df.shape"
   ]
  },
  {
   "cell_type": "code",
   "execution_count": 8,
   "metadata": {},
   "outputs": [
    {
     "data": {
      "text/plain": [
       "0"
      ]
     },
     "execution_count": 8,
     "metadata": {},
     "output_type": "execute_result"
    }
   ],
   "source": [
    "# Verifica dados duplicados\n",
    "sum(titanic_df.duplicated())"
   ]
  },
  {
   "cell_type": "code",
   "execution_count": 9,
   "metadata": {},
   "outputs": [
    {
     "data": {
      "text/plain": [
       "array(['Age', 'Cabin', 'Embarked'], dtype=object)"
      ]
     },
     "execution_count": 9,
     "metadata": {},
     "output_type": "execute_result"
    }
   ],
   "source": [
    "# Verifica colunas com dados em branco ou nulos\n",
    "titanic_df.columns [titanic_df.isnull().any()].values"
   ]
  },
  {
   "cell_type": "markdown",
   "metadata": {},
   "source": [
    "# Limpeza de Dados:\n",
    "\n",
    "Com a análise acima, temos a dimensão da quantidade de dados que temos para tratar. Vemos que não há dados duplicados, porém as colunas 'Age', 'Cabin' e 'Embarked' possuem dados nulos ou vazios.\n",
    "Prosseguimos com as colunas que devem ser tratadas pois serão as que irão ser utilizadas.\n",
    "Começaremos com a coluna 'Age'\n",
    "\n",
    ".Após os dados serem carregados, as seguintes mudanças serão efetuadas:\n",
    "1. Checar quais colunas estão com dados vazios ou nulos\n",
    "2. Normalizar as idades dos passageiros que estão menores que 1 ano\n",
    "3. Preencher as idades nulas com as média das idades pelo sexo e classe."
   ]
  },
  {
   "cell_type": "code",
   "execution_count": 10,
   "metadata": {},
   "outputs": [
    {
     "name": "stdout",
     "output_type": "stream",
     "text": [
      "Encontrados 177 registros sem valor na coluna Age\n"
     ]
    }
   ],
   "source": [
    "# Identifica os valores nulos da coluna 'Age'\n",
    "n_age = titanic_df['Age'].isnull().sum()\n",
    "print('Encontrados {0} registros sem valor na coluna Age'.format(n_age))"
   ]
  },
  {
   "cell_type": "markdown",
   "metadata": {},
   "source": [
    "para rposseguir com a tratativa, precisamos preencher estes dados Faltantes."
   ]
  },
  {
   "cell_type": "code",
   "execution_count": 11,
   "metadata": {},
   "outputs": [],
   "source": [
    "# Checagem e normalização da idades dos passageiros menores de 1 ano de vida\n",
    "\n",
    "def normalage(age):\n",
    "    \"\"\"Checa se a idade informada é menor que 1, se sim, sobescreve para o valor 1\n",
    "            Caso seja maior que 1, retorna o valor informado\"\"\"\n",
    "    \n",
    "    if age < 1.0:\n",
    "        return 1.0\n",
    "    return age\n",
    "\n",
    "titanic_df['Age'] = titanic_df['Age'].apply(normalage)"
   ]
  },
  {
   "cell_type": "markdown",
   "metadata": {},
   "source": [
    "Após checar os dados, vemos que a idade foi normalizada com valores acima de 1.0 mas continuamos com valores nulos.\n",
    "Devemos então preencher esses valores."
   ]
  },
  {
   "cell_type": "code",
   "execution_count": 12,
   "metadata": {},
   "outputs": [
    {
     "data": {
      "text/plain": [
       "count    714.000000\n",
       "mean      29.701681\n",
       "std       14.521395\n",
       "min        1.000000\n",
       "25%       20.125000\n",
       "50%       28.000000\n",
       "75%       38.000000\n",
       "max       80.000000\n",
       "Name: Age, dtype: float64"
      ]
     },
     "execution_count": 12,
     "metadata": {},
     "output_type": "execute_result"
    }
   ],
   "source": [
    "titanic_df['Age'].describe()"
   ]
  },
  {
   "cell_type": "code",
   "execution_count": 13,
   "metadata": {},
   "outputs": [
    {
     "name": "stdout",
     "output_type": "stream",
     "text": [
      "Pclass\n",
      "1    41.282178\n",
      "2    30.747475\n",
      "3    26.509881\n",
      "Name: Age, dtype: float64\n",
      "Pclass\n",
      "1    34.611765\n",
      "2    28.722973\n",
      "3    21.754902\n",
      "Name: Age, dtype: float64\n"
     ]
    }
   ],
   "source": [
    "# Para haver um preenchimento coerente, devemos analisar a idade média por sexo e por classe. Só assim teremos os dados faltantes.\n",
    "age_mean_h = titanic_df[titanic_df['Sex'] == 'male'].groupby('Pclass')['Age'].mean()\n",
    "age_mean_m = titanic_df[titanic_df['Sex'] == 'female'].groupby('Pclass')['Age'].mean()\n",
    "print(age_mean_h)\n",
    "print(age_mean_m)                                                                         "
   ]
  },
  {
   "cell_type": "code",
   "execution_count": 14,
   "metadata": {},
   "outputs": [],
   "source": [
    "#Preenchimento dos registros nulos com a média por classe e sexo\n",
    "titanic_df['Age'] = titanic_df['Age'].groupby([titanic_df['Sex'], titanic_df['Pclass']]).apply(lambda x: x.fillna(x.median()))"
   ]
  },
  {
   "cell_type": "code",
   "execution_count": 15,
   "metadata": {},
   "outputs": [
    {
     "data": {
      "text/plain": [
       "0"
      ]
     },
     "execution_count": 15,
     "metadata": {},
     "output_type": "execute_result"
    }
   ],
   "source": [
    "# Verificando se todos os dados nulos foram preenchidos\n",
    "titanic_df['Age'].isnull().sum()"
   ]
  },
  {
   "cell_type": "code",
   "execution_count": 16,
   "metadata": {},
   "outputs": [],
   "source": [
    "#alterar o tipo da coluna 'Age'\n",
    "titanic_df['Age'] = titanic_df['Age'].astype(int)"
   ]
  },
  {
   "cell_type": "markdown",
   "metadata": {},
   "source": [
    "Após a limpeza dos dados, iremos começar a analisar as informações do arquivo de ados."
   ]
  },
  {
   "cell_type": "code",
   "execution_count": 17,
   "metadata": {},
   "outputs": [
    {
     "name": "stdout",
     "output_type": "stream",
     "text": [
      "<class 'pandas.core.frame.DataFrame'>\n",
      "RangeIndex: 891 entries, 0 to 890\n",
      "Data columns (total 12 columns):\n",
      "PassengerId    891 non-null int64\n",
      "Survived       891 non-null int64\n",
      "Pclass         891 non-null int64\n",
      "Name           891 non-null object\n",
      "Sex            891 non-null object\n",
      "Age            891 non-null int32\n",
      "SibSp          891 non-null int64\n",
      "Parch          891 non-null int64\n",
      "Ticket         891 non-null object\n",
      "Fare           891 non-null float64\n",
      "Cabin          204 non-null object\n",
      "Embarked       889 non-null object\n",
      "dtypes: float64(1), int32(1), int64(5), object(5)\n",
      "memory usage: 80.1+ KB\n"
     ]
    }
   ],
   "source": [
    "titanic_df.info()"
   ]
  },
  {
   "cell_type": "code",
   "execution_count": 18,
   "metadata": {},
   "outputs": [
    {
     "data": {
      "text/html": [
       "<div>\n",
       "<style scoped>\n",
       "    .dataframe tbody tr th:only-of-type {\n",
       "        vertical-align: middle;\n",
       "    }\n",
       "\n",
       "    .dataframe tbody tr th {\n",
       "        vertical-align: top;\n",
       "    }\n",
       "\n",
       "    .dataframe thead th {\n",
       "        text-align: right;\n",
       "    }\n",
       "</style>\n",
       "<table border=\"1\" class=\"dataframe\">\n",
       "  <thead>\n",
       "    <tr style=\"text-align: right;\">\n",
       "      <th></th>\n",
       "      <th>PassengerId</th>\n",
       "      <th>Survived</th>\n",
       "      <th>Pclass</th>\n",
       "      <th>Age</th>\n",
       "      <th>SibSp</th>\n",
       "      <th>Parch</th>\n",
       "      <th>Fare</th>\n",
       "    </tr>\n",
       "  </thead>\n",
       "  <tbody>\n",
       "    <tr>\n",
       "      <th>count</th>\n",
       "      <td>891.000000</td>\n",
       "      <td>891.000000</td>\n",
       "      <td>891.000000</td>\n",
       "      <td>891.000000</td>\n",
       "      <td>891.000000</td>\n",
       "      <td>891.000000</td>\n",
       "      <td>891.000000</td>\n",
       "    </tr>\n",
       "    <tr>\n",
       "      <th>mean</th>\n",
       "      <td>446.000000</td>\n",
       "      <td>0.383838</td>\n",
       "      <td>2.308642</td>\n",
       "      <td>29.080808</td>\n",
       "      <td>0.523008</td>\n",
       "      <td>0.381594</td>\n",
       "      <td>32.204208</td>\n",
       "    </tr>\n",
       "    <tr>\n",
       "      <th>std</th>\n",
       "      <td>257.353842</td>\n",
       "      <td>0.486592</td>\n",
       "      <td>0.836071</td>\n",
       "      <td>13.309462</td>\n",
       "      <td>1.102743</td>\n",
       "      <td>0.806057</td>\n",
       "      <td>49.693429</td>\n",
       "    </tr>\n",
       "    <tr>\n",
       "      <th>min</th>\n",
       "      <td>1.000000</td>\n",
       "      <td>0.000000</td>\n",
       "      <td>1.000000</td>\n",
       "      <td>1.000000</td>\n",
       "      <td>0.000000</td>\n",
       "      <td>0.000000</td>\n",
       "      <td>0.000000</td>\n",
       "    </tr>\n",
       "    <tr>\n",
       "      <th>25%</th>\n",
       "      <td>223.500000</td>\n",
       "      <td>0.000000</td>\n",
       "      <td>2.000000</td>\n",
       "      <td>21.000000</td>\n",
       "      <td>0.000000</td>\n",
       "      <td>0.000000</td>\n",
       "      <td>7.910400</td>\n",
       "    </tr>\n",
       "    <tr>\n",
       "      <th>50%</th>\n",
       "      <td>446.000000</td>\n",
       "      <td>0.000000</td>\n",
       "      <td>3.000000</td>\n",
       "      <td>26.000000</td>\n",
       "      <td>0.000000</td>\n",
       "      <td>0.000000</td>\n",
       "      <td>14.454200</td>\n",
       "    </tr>\n",
       "    <tr>\n",
       "      <th>75%</th>\n",
       "      <td>668.500000</td>\n",
       "      <td>1.000000</td>\n",
       "      <td>3.000000</td>\n",
       "      <td>36.000000</td>\n",
       "      <td>1.000000</td>\n",
       "      <td>0.000000</td>\n",
       "      <td>31.000000</td>\n",
       "    </tr>\n",
       "    <tr>\n",
       "      <th>max</th>\n",
       "      <td>891.000000</td>\n",
       "      <td>1.000000</td>\n",
       "      <td>3.000000</td>\n",
       "      <td>80.000000</td>\n",
       "      <td>8.000000</td>\n",
       "      <td>6.000000</td>\n",
       "      <td>512.329200</td>\n",
       "    </tr>\n",
       "  </tbody>\n",
       "</table>\n",
       "</div>"
      ],
      "text/plain": [
       "       PassengerId    Survived      Pclass         Age       SibSp  \\\n",
       "count   891.000000  891.000000  891.000000  891.000000  891.000000   \n",
       "mean    446.000000    0.383838    2.308642   29.080808    0.523008   \n",
       "std     257.353842    0.486592    0.836071   13.309462    1.102743   \n",
       "min       1.000000    0.000000    1.000000    1.000000    0.000000   \n",
       "25%     223.500000    0.000000    2.000000   21.000000    0.000000   \n",
       "50%     446.000000    0.000000    3.000000   26.000000    0.000000   \n",
       "75%     668.500000    1.000000    3.000000   36.000000    1.000000   \n",
       "max     891.000000    1.000000    3.000000   80.000000    8.000000   \n",
       "\n",
       "            Parch        Fare  \n",
       "count  891.000000  891.000000  \n",
       "mean     0.381594   32.204208  \n",
       "std      0.806057   49.693429  \n",
       "min      0.000000    0.000000  \n",
       "25%      0.000000    7.910400  \n",
       "50%      0.000000   14.454200  \n",
       "75%      0.000000   31.000000  \n",
       "max      6.000000  512.329200  "
      ]
     },
     "execution_count": 18,
     "metadata": {},
     "output_type": "execute_result"
    }
   ],
   "source": [
    "titanic_df.describe()"
   ]
  },
  {
   "cell_type": "markdown",
   "metadata": {},
   "source": [
    "Primeira pergunta: Quantas pessoas sobreviveram e quantas não?"
   ]
  },
  {
   "cell_type": "code",
   "execution_count": 19,
   "metadata": {},
   "outputs": [
    {
     "name": "stdout",
     "output_type": "stream",
     "text": [
      "A quantidade em percentual de sobreviventes é de 38.4% e das que não sobreviveram é de 61.6%\n"
     ]
    },
    {
     "data": {
      "image/png": "[encoded data removed]",
      "text/plain": [
       "<Figure size 432x288 with 1 Axes>"
      ]
     },
     "metadata": {},
     "output_type": "display_data"
    }
   ],
   "source": [
    "titanic_df['Survived'].value_counts().plot.pie(colors=('tab:green', 'tab:blue'),title='Percentual de Sobreviventes',fontsize=14, shadow=True, startangle=90, autopct='%1.1f%%,',labels=('Não sobreviveram','Sobreviveram'),figsize=(6,4)).set_ylabel('')\n",
    "\n",
    "data_survived = titanic_df['Survived'].value_counts()\n",
    "total = data_survived.sum()\n",
    "not_survived = data_survived[0]\n",
    "survived = data_survived[1]\n",
    "\n",
    "def calc_percentual(survived, total):\n",
    "    \"\"\"Calcula o percentual sobre o total\n",
    "    \n",
    "        Args:\n",
    "            Survived: quantidade a ser analisada\n",
    "            total: quantidade total de dados\"\"\"\n",
    "    return round (((survived *100) / total), 1)\n",
    "print ('A quantidade em percentual de sobreviventes é de {0}% e das que não sobreviveram é de {1}%'.format(calc_percentual(survived, total), calc_percentual(not_survived, total)))"
   ]
  },
  {
   "cell_type": "markdown",
   "metadata": {},
   "source": [
    "O que temos de informações sobre a idade dos passageiros?"
   ]
  },
  {
   "cell_type": "code",
   "execution_count": 20,
   "metadata": {},
   "outputs": [
    {
     "data": {
      "text/plain": [
       "count    891.000000\n",
       "mean      29.080808\n",
       "std       13.309462\n",
       "min        1.000000\n",
       "25%       21.000000\n",
       "50%       26.000000\n",
       "75%       36.000000\n",
       "max       80.000000\n",
       "Name: Age, dtype: float64"
      ]
     },
     "execution_count": 20,
     "metadata": {},
     "output_type": "execute_result"
    }
   ],
   "source": [
    "titanic_df['Age'].describe()\n"
   ]
  },
  {
   "cell_type": "markdown",
   "metadata": {},
   "source": [
    "Na análise tivemos:\n",
    "    Maior idade: 80\n",
    "    Menor idade: 1, ou menos, já que aproximamos as idades menores que 1\n",
    "    Idade média: 29 "
   ]
  },
  {
   "cell_type": "code",
   "execution_count": 21,
   "metadata": {},
   "outputs": [
    {
     "name": "stdout",
     "output_type": "stream",
     "text": [
      "No gráfico abaixo é possível visualizer melhor a distribuição de idade dos passageiros\n"
     ]
    },
    {
     "data": {
      "image/png": "[encoded data removed]",
      "text/plain": [
       "<Figure size 432x288 with 1 Axes>"
      ]
     },
     "metadata": {
      "needs_background": "light"
     },
     "output_type": "display_data"
    }
   ],
   "source": [
    "#Iremos distribuir a idade dos passageiros em um gráfico.\n",
    "filtered_age = titanic_df[titanic_df['Age'].notnull()]\n",
    "n, bins, patches = plt.hist(x=filtered_age['Age'], bins='auto', color='#808000', alpha=0.7, rwidth=0.85)\n",
    "plt.grid(axis='y', alpha=0.75)\n",
    "plt.xlabel('Idade')\n",
    "plt.ylabel('Quantidade')\n",
    "plt.title('Idade dos passageiros x Quantidade')\n",
    "maxfreq = n.max()\n",
    "print('No gráfico abaixo é possível visualizer melhor a distribuição de idade dos passageiros')"
   ]
  },
  {
   "cell_type": "code",
   "execution_count": 22,
   "metadata": {},
   "outputs": [
    {
     "name": "stdout",
     "output_type": "stream",
     "text": [
      "O Homem mais velho a sobreviver tinha 80 anos e o mais novo tinha 1 anos.\n",
      "O Homem mais velho a morrer tinha 74 anos e o mais novo tinha 1 anos.\n"
     ]
    }
   ],
   "source": [
    "male_surv = titanic_df[(titanic_df.Sex == \"male\") & (titanic_df.Survived == 1)]\n",
    "print('O Homem mais velho a sobreviver tinha {0} anos e o mais novo tinha {1} anos.'.format(male_surv['Age'].max(),male_surv['Age'].min()))\n",
    "male_surv = titanic_df[(titanic_df.Sex == \"male\") & (titanic_df.Survived == 0)]\n",
    "print('O Homem mais velho a morrer tinha {0} anos e o mais novo tinha {1} anos.'.format(male_surv['Age'].max(),male_surv['Age'].min()))"
   ]
  },
  {
   "cell_type": "code",
   "execution_count": 23,
   "metadata": {},
   "outputs": [
    {
     "name": "stdout",
     "output_type": "stream",
     "text": [
      "A Mulher mais velha a sobreviver tinha 63 anos e a mais nova tinha 1 anos.\n",
      "A Mulher mais velha a morrer tinha 74 anos e a mais nova tinha 1 anos.\n"
     ]
    }
   ],
   "source": [
    "female_surv = titanic_df[(titanic_df.Sex == \"female\") & (titanic_df.Survived == 1)]\n",
    "print('A Mulher mais velha a sobreviver tinha {0} anos e a mais nova tinha {1} anos.'.format(female_surv['Age'].max(),female_surv['Age'].min()))\n",
    "female_surv = titanic_df[(titanic_df.Sex == \"male\") & (titanic_df.Survived == 0)]\n",
    "print('A Mulher mais velha a morrer tinha {0} anos e a mais nova tinha {1} anos.'.format(female_surv['Age'].max(),female_surv['Age'].min()))"
   ]
  },
  {
   "cell_type": "code",
   "execution_count": 24,
   "metadata": {},
   "outputs": [
    {
     "name": "stdout",
     "output_type": "stream",
     "text": [
      "A idade MÁXIMA dos homens mais velhos a sobreviver na 1 Classe foi de: 80 anos, Na segunda classe foi de: 62 anos, na terceira classe foi de: 45 anos.\n",
      "A idade MÁXIMA dos homens mais velhos a  NÃO sobreviver na 1 Classe foi de: 71 anos, Na segunda classe foi de: 70 anos, na terceira classe foi de: 74 anos.\n"
     ]
    }
   ],
   "source": [
    "male_surv = titanic_df[(titanic_df.Sex == \"male\") & (titanic_df.Survived == 1)].groupby('Pclass')\n",
    "print('A idade MÁXIMA dos homens mais velhos a sobreviver na 1 Classe foi de: {0} anos, Na segunda classe foi de: {1} anos, na terceira classe foi de: {2} anos.'.format(male_surv['Age'].max()[1], male_surv['Age'].max()[2], male_surv['Age'].max()[3]))\n",
    "male_surv = titanic_df[(titanic_df.Sex == \"male\") & (titanic_df.Survived == 0)].groupby('Pclass')\n",
    "print('A idade MÁXIMA dos homens mais velhos a  NÃO sobreviver na 1 Classe foi de: {0} anos, Na segunda classe foi de: {1} anos, na terceira classe foi de: {2} anos.'.format(male_surv['Age'].max()[1], male_surv['Age'].max()[2], male_surv['Age'].max()[3]))"
   ]
  },
  {
   "cell_type": "code",
   "execution_count": 70,
   "metadata": {},
   "outputs": [
    {
     "name": "stdout",
     "output_type": "stream",
     "text": [
      "A idade MÁXIMA das mulheres mais velhas a sobreviver na 1 Classe foi de: 63 anos, Na segunda classe foi de: 55 anos, na terceira classe foi de: 63 anos.\n",
      "A idade MÁXIMA das mulheres mais velhas a NÃO sobreviver na 1 Classe foi de: 50 anos, Na segunda classe foi de: 57 anos, na terceira classe foi de: 48 anos.\n"
     ]
    }
   ],
   "source": [
    "female_surv = titanic_df[(titanic_df.Sex == \"female\") & (titanic_df.Survived == 1)].groupby('Pclass')\n",
    "print('A idade MÁXIMA das mulheres mais velhas a sobreviver na 1 Classe foi de: {0} anos, Na segunda classe foi de: {1} anos, na terceira classe foi de: {2} anos.'.format(female_surv['Age'].max()[1], female_surv['Age'].max()[2], female_surv['Age'].max()[3]))\n",
    "female_surv = titanic_df[(titanic_df.Sex == \"female\") & (titanic_df.Survived == 0)].groupby('Pclass')\n",
    "print('A idade MÁXIMA das mulheres mais velhas a NÃO sobreviver na 1 Classe foi de: {0} anos, Na segunda classe foi de: {1} anos, na terceira classe foi de: {2} anos.'.format(female_surv['Age'].max()[1], female_surv['Age'].max()[2], female_surv['Age'].max()[3]))"
   ]
  },
  {
   "cell_type": "code",
   "execution_count": 109,
   "metadata": {},
   "outputs": [
    {
     "name": "stdout",
     "output_type": "stream",
     "text": [
      "Analisando o total de sobreviventes Masculinos, vemos que quase 50% eram da primeira classe e 25% eram da terceira classe. O que mostra que o fator classe foi importante para a sobrevivência dos passageiros.\n"
     ]
    },
    {
     "data": {
      "image/png": "[encoded data removed]",
      "text/plain": [
       "<Figure size 432x288 with 1 Axes>"
      ]
     },
     "metadata": {},
     "output_type": "display_data"
    }
   ],
   "source": [
    "male_surv = titanic_df[(titanic_df.Sex == \"male\") & (titanic_df.Survived == 1)].groupby('Pclass')\n",
    "male_surv['Age'].max().plot.pie(title='Percentual de sobreviventes do sexo Masculino por classe',labels=('1 Classe', '2 Classe', '3 Classe'), fontsize=15, shadow=True, startangle=90, autopct='%1.1f%%',figsize=(6,4)).set_ylabel('')\n",
    "                               \n",
    "print('Analisando o total de sobreviventes Masculinos, vemos que quase 50% eram da primeira classe e 25% eram da terceira classe. O que mostra que o fator classe foi importante para a sobrevivência dos passageiros.')"
   ]
  },
  {
   "cell_type": "code",
   "execution_count": 74,
   "metadata": {},
   "outputs": [
    {
     "name": "stdout",
     "output_type": "stream",
     "text": [
      "Analisando o total de sobreviventes Femininos, vemos houve uma apoximação no total de sobrevivência das classes. Ainda assim, as mulheres da 1 classe tiveram maior índice\n"
     ]
    },
    {
     "data": {
      "image/png": "[encoded data removed]",
      "text/plain": [
       "<Figure size 432x288 with 1 Axes>"
      ]
     },
     "metadata": {},
     "output_type": "display_data"
    }
   ],
   "source": [
    "female_surv = titanic_df[(titanic_df.Sex == \"female\") & (titanic_df.Survived == 1)].groupby('Pclass')\n",
    "female_surv['Age'].max().plot.pie(title='Percentual de sobreviventes do sexo Feminino por classe',labels=('1 Classe', '2 Classe', '3 Classe'), fontsize=15, shadow=True, startangle=90, autopct='%1.1f%%',figsize=(6,4)).set_ylabel('')\n",
    "                               \n",
    "print('Analisando o total de sobreviventes Femininos, vemos houve uma apoximação no total de sobrevivência das classes. Ainda assim, as mulheres da 1 classe tiveram maior índice')"
   ]
  },
  {
   "cell_type": "markdown",
   "metadata": {},
   "source": [
    "O que podemos analisar sobre o sexo dos passsageiros e a taxa de sobrevivência."
   ]
  },
  {
   "cell_type": "code",
   "execution_count": 84,
   "metadata": {},
   "outputs": [
    {
     "name": "stdout",
     "output_type": "stream",
     "text": [
      "Podemos então concluir que apenas 109 homens sobreviveram e 468 não sobreviveram\n"
     ]
    },
    {
     "data": {
      "image/png": "[encoded data removed]",
      "text/plain": [
       "<Figure size 432x288 with 1 Axes>"
      ]
     },
     "metadata": {
      "needs_background": "light"
     },
     "output_type": "display_data"
    }
   ],
   "source": [
    "male_survived = titanic_df[titanic_df['Sex'] == \"male\"][\"Survived\"]\n",
    "\n",
    "locations = [1, 2]\n",
    "heights = male_survived.value_counts()\n",
    "labels = ['Não', 'Sim']\n",
    "plt.bar(locations, heights, tick_label=labels)\n",
    "plt.title('Sobreviventes do sexo Masculino')\n",
    "plt.xlabel('Sobreviveram')\n",
    "plt.ylabel('Quantidade');\n",
    "\n",
    "print('Podemos então concluir que apenas {0} homens sobreviveram e {1} não sobreviveram'.format(male_survived.value_counts()[1], male_survived.value_counts()[0]))"
   ]
  },
  {
   "cell_type": "code",
   "execution_count": 85,
   "metadata": {},
   "outputs": [
    {
     "name": "stdout",
     "output_type": "stream",
     "text": [
      "Podemos então concluir que apenas 233 Mulheres sobreviveram e 81 não sobreviveram\n"
     ]
    },
    {
     "data": {
      "image/png": "[encoded data removed]",
      "text/plain": [
       "<Figure size 432x288 with 1 Axes>"
      ]
     },
     "metadata": {
      "needs_background": "light"
     },
     "output_type": "display_data"
    }
   ],
   "source": [
    "female_survived = titanic_df[titanic_df['Sex'] == \"female\"][\"Survived\"]\n",
    "\n",
    "locations = [1, 2]\n",
    "heights = female_survived.value_counts()\n",
    "labels = ['Não', 'Sim']\n",
    "plt.bar(locations, heights, tick_label=labels)\n",
    "plt.title('Sobreviventes do sexo Feminino')\n",
    "plt.xlabel('Sobreviveram')\n",
    "plt.ylabel('Quantidade');\n",
    "print('Podemos então concluir que apenas {0} Mulheres sobreviveram e {1} não sobreviveram'.format(female_survived.value_counts()[1],female_survived.value_counts()[0]))"
   ]
  },
  {
   "cell_type": "code",
   "execution_count": 94,
   "metadata": {},
   "outputs": [
    {
     "name": "stdout",
     "output_type": "stream",
     "text": [
      "Passageiros por classe e sexo que sobreviveram\n"
     ]
    },
    {
     "data": {
      "text/html": [
       "<div>\n",
       "<style scoped>\n",
       "    .dataframe tbody tr th:only-of-type {\n",
       "        vertical-align: middle;\n",
       "    }\n",
       "\n",
       "    .dataframe tbody tr th {\n",
       "        vertical-align: top;\n",
       "    }\n",
       "\n",
       "    .dataframe thead th {\n",
       "        text-align: right;\n",
       "    }\n",
       "</style>\n",
       "<table border=\"1\" class=\"dataframe\">\n",
       "  <thead>\n",
       "    <tr style=\"text-align: right;\">\n",
       "      <th>Pclass</th>\n",
       "      <th>1</th>\n",
       "      <th>2</th>\n",
       "      <th>3</th>\n",
       "    </tr>\n",
       "    <tr>\n",
       "      <th>Sex</th>\n",
       "      <th></th>\n",
       "      <th></th>\n",
       "      <th></th>\n",
       "    </tr>\n",
       "  </thead>\n",
       "  <tbody>\n",
       "    <tr>\n",
       "      <th>female</th>\n",
       "      <td>91</td>\n",
       "      <td>70</td>\n",
       "      <td>72</td>\n",
       "    </tr>\n",
       "    <tr>\n",
       "      <th>male</th>\n",
       "      <td>45</td>\n",
       "      <td>17</td>\n",
       "      <td>47</td>\n",
       "    </tr>\n",
       "  </tbody>\n",
       "</table>\n",
       "</div>"
      ],
      "text/plain": [
       "Pclass   1   2   3\n",
       "Sex               \n",
       "female  91  70  72\n",
       "male    45  17  47"
      ]
     },
     "execution_count": 94,
     "metadata": {},
     "output_type": "execute_result"
    }
   ],
   "source": [
    "print('Passageiros por classe e sexo que sobreviveram')\n",
    "pvt1_df = titanic_df[titanic_df['Survived'] == 1].pivot_table('PassengerId', ['Sex'], 'Pclass', aggfunc='count')\n",
    "pvt1_df"
   ]
  },
  {
   "cell_type": "code",
   "execution_count": 95,
   "metadata": {},
   "outputs": [
    {
     "name": "stdout",
     "output_type": "stream",
     "text": [
      "Passageiros por classe e sexo que NÃO sobreviveram\n"
     ]
    },
    {
     "data": {
      "text/html": [
       "<div>\n",
       "<style scoped>\n",
       "    .dataframe tbody tr th:only-of-type {\n",
       "        vertical-align: middle;\n",
       "    }\n",
       "\n",
       "    .dataframe tbody tr th {\n",
       "        vertical-align: top;\n",
       "    }\n",
       "\n",
       "    .dataframe thead th {\n",
       "        text-align: right;\n",
       "    }\n",
       "</style>\n",
       "<table border=\"1\" class=\"dataframe\">\n",
       "  <thead>\n",
       "    <tr style=\"text-align: right;\">\n",
       "      <th>Pclass</th>\n",
       "      <th>1</th>\n",
       "      <th>2</th>\n",
       "      <th>3</th>\n",
       "    </tr>\n",
       "    <tr>\n",
       "      <th>Sex</th>\n",
       "      <th></th>\n",
       "      <th></th>\n",
       "      <th></th>\n",
       "    </tr>\n",
       "  </thead>\n",
       "  <tbody>\n",
       "    <tr>\n",
       "      <th>female</th>\n",
       "      <td>3</td>\n",
       "      <td>6</td>\n",
       "      <td>72</td>\n",
       "    </tr>\n",
       "    <tr>\n",
       "      <th>male</th>\n",
       "      <td>77</td>\n",
       "      <td>91</td>\n",
       "      <td>300</td>\n",
       "    </tr>\n",
       "  </tbody>\n",
       "</table>\n",
       "</div>"
      ],
      "text/plain": [
       "Pclass   1   2    3\n",
       "Sex                \n",
       "female   3   6   72\n",
       "male    77  91  300"
      ]
     },
     "execution_count": 95,
     "metadata": {},
     "output_type": "execute_result"
    }
   ],
   "source": [
    "print('Passageiros por classe e sexo que NÃO sobreviveram')\n",
    "pvt1_df = titanic_df[titanic_df['Survived'] == 0].pivot_table('PassengerId', ['Sex'], 'Pclass', aggfunc='count')\n",
    "pvt1_df"
   ]
  },
  {
   "cell_type": "markdown",
   "metadata": {},
   "source": [
    "Pela tabela podemos analisar que o índice de sobrevivência das mulheres da primeira classe foi muito alto. Os homens da terceira classe foram de maior índice de mortalidade."
   ]
  },
  {
   "cell_type": "code",
   "execution_count": 111,
   "metadata": {},
   "outputs": [
    {
     "data": {
      "text/plain": [
       "<Figure size 432x288 with 0 Axes>"
      ]
     },
     "metadata": {},
     "output_type": "display_data"
    },
    {
     "data": {
      "image/png": "[encoded data removed]",
      "text/plain": [
       "<Figure size 720x360 with 1 Axes>"
      ]
     },
     "metadata": {
      "needs_background": "light"
     },
     "output_type": "display_data"
    },
    {
     "name": "stdout",
     "output_type": "stream",
     "text": [
      "No gráfico acima é possível visualizer de forma clara os sobreviventes e não sobreviventes por classe. Ficando evidente que aprimeira e a segunda classe tiveram mais chance de sobrevivência.\n"
     ]
    }
   ],
   "source": [
    "df_histage = pd.DataFrame({'Total': titanic_df['Pclass'],'Não Sobreviveram': titanic_df[titanic_df['Survived'] == 0]['Pclass'],'Sobreviveram': titanic_df[titanic_df['Survived'] == 1]['Pclass']},columns=['Total', 'Não Sobreviveram', 'Sobreviveram'])\n",
    "plt.figure();\n",
    "df_histage.plot.hist(bins=10, alpha=0.5, figsize=(10,5),\n",
    "                    title='Total de Sobreviventes e Não Sobreviventes por Classe')\n",
    "plt.xlabel('Classe')\n",
    "plt.ylabel('Frequência')\n",
    "plt.show()\n",
    "\n",
    "print('No gráfico acima é possível visualizer de forma clara os sobreviventes e não sobreviventes por classe. Ficando evidente que aprimeira e a segunda classe tiveram mais chance de sobrevivência.')"
   ]
  },
  {
   "cell_type": "code",
   "execution_count": 112,
   "metadata": {},
   "outputs": [
    {
     "name": "stdout",
     "output_type": "stream",
     "text": [
      "No gráfico acima é possível visualizer a distribuição de não sobreviventes por Classe.\n"
     ]
    },
    {
     "data": {
      "image/png": "[encoded data removed]",
      "text/plain": [
       "<Figure size 1080x288 with 1 Axes>"
      ]
     },
     "metadata": {
      "needs_background": "light"
     },
     "output_type": "display_data"
    }
   ],
   "source": [
    "n_surv_class_df = titanic_df[titanic_df['Survived'] == 0].groupby('Pclass')\n",
    "n_surv_class_df['Survived'].count().plot(kind='bar', title='Quantidade de não sobreviventes por Classe', rot=0, figsize=(15,4)).set_xlabel('Classe')\n",
    "plt.ylabel('Quantidade')\n",
    "\n",
    "print('No gráfico abaixo é possível visualizer a distribuição de não sobreviventes por Classe.')"
   ]
  },
  {
   "cell_type": "code",
   "execution_count": 113,
   "metadata": {},
   "outputs": [
    {
     "name": "stdout",
     "output_type": "stream",
     "text": [
      "No gráfico abaixo é possível visualizer a distribuição de sobreviventes por Classe.\n"
     ]
    },
    {
     "data": {
      "image/png": "[encoded data removed]",
      "text/plain": [
       "<Figure size 1080x288 with 1 Axes>"
      ]
     },
     "metadata": {
      "needs_background": "light"
     },
     "output_type": "display_data"
    }
   ],
   "source": [
    "n_surv_class_df = titanic_df[titanic_df['Survived'] == 1].groupby('Pclass')\n",
    "n_surv_class_df['Survived'].count().plot(kind='bar', title='Quantidade de sobreviventes por Classe', rot=0, figsize=(15,4)).set_xlabel('Classe')\n",
    "\n",
    "plt.ylabel('Quantidade')\n",
    "\n",
    "print('No gráfico abaixo é possível visualizer a distribuição de sobreviventes por Classe.')"
   ]
  },
  {
   "cell_type": "code",
   "execution_count": 117,
   "metadata": {},
   "outputs": [
    {
     "name": "stdout",
     "output_type": "stream",
     "text": [
      "No gráfico abaixo faz um comparativo de sobreviventes e não sobreviventes por classe e sexo separados\n"
     ]
    },
    {
     "data": {
      "image/png": "[encoded data removed]",
      "text/plain": [
       "<Figure size 432x288 with 1 Axes>"
      ]
     },
     "metadata": {
      "needs_background": "light"
     },
     "output_type": "display_data"
    }
   ],
   "source": [
    "titanic_df.pivot_table('PassengerId', ['Sex', 'Pclass'], 'Survived', aggfunc='count').plot(kind='bar', title= 'Comparativo de sobreviventes por sexo e classe')\n",
    "plt.ylabel('Quantidade')\n",
    "\n",
    "print('No gráfico abaixo faz um comparativo de sobreviventes e não sobreviventes por classe e sexo separados')"
   ]
  },
  {
   "cell_type": "markdown",
   "metadata": {},
   "source": [
    "## Conclusão:\n",
    "Após análise dos dados do Titanic, foi possível tirar como resultado que o fator classe e sexo foram definitivos para a sobrevivência dos passageiros. Temos um alto índice de sobrevivência entre as mulheres da primeira e seguna classe (classes mais privilegiadas). Temos também um alto índice de mortes dos homens da terceira classe.\n",
    "Vemos então que houve um grande problema de disponibilidade de botes para todos os passageiros e percebemos que a 1 e 2 classes foram as mais privilegiadas no momento da distribuição dos botes.\n",
    "\n",
    "## Limitações\n",
    "\n",
    "Numa primeira visão, encontrou=se como fator limitante os campos vazios nas colunas da base de dados, o que tornou mais trabalhoso no momento da tratativa. Estas características são: Age, Cabin e Embarked.\n",
    "* Age: Os valores faltantes foram preenchidos efetuando uma média das idades pelo sexo e classe.\n",
    "* Age: Normalizar as idades dos passageiros que estão menores que 1 ano\n"
   ]
  }
 ],
 "metadata": {
  "kernelspec": {
   "display_name": "Python 3",
   "language": "python",
   "name": "python3"
  },
  "language_info": {
   "codemirror_mode": {
    "name": "ipython",
    "version": 3
   },
   "file_extension": ".py",
   "mimetype": "text/x-python",
   "name": "python",
   "nbconvert_exporter": "python",
   "pygments_lexer": "ipython3",
   "version": "3.7.0"
  },
  "widgets": {
   "application/vnd.jupyter.widget-state+json": {
    "state": {},
    "version_major": 2,
    "version_minor": 0
   }
  }
 },
 "nbformat": 4,
 "nbformat_minor": 2
}
